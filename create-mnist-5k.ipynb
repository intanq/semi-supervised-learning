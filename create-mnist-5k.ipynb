{
 "cells": [
  {
   "cell_type": "markdown",
   "id": "2db46ea7",
   "metadata": {},
   "source": [
    "# Pembentukan Dataset MNIST Berlabel (5000)"
   ]
  },
  {
   "cell_type": "markdown",
   "id": "0353a8ea",
   "metadata": {},
   "source": [
    "## Import Modules"
   ]
  },
  {
   "cell_type": "code",
   "execution_count": 1,
   "id": "88899112",
   "metadata": {},
   "outputs": [],
   "source": [
    "import os\n",
    "import copy\n",
    "\n",
    "import torch\n",
    "\n",
    "from torchvision import datasets\n",
    "import torchvision.transforms as T\n",
    "\n",
    "import numpy as np"
   ]
  },
  {
   "cell_type": "markdown",
   "id": "5bfdc22d",
   "metadata": {},
   "source": [
    "## Define Constants"
   ]
  },
  {
   "cell_type": "code",
   "execution_count": 2,
   "id": "c6582bcf",
   "metadata": {},
   "outputs": [],
   "source": [
    "DATA_DIR = \"./data\"\n",
    "MODEL_DIR = \"./models\""
   ]
  },
  {
   "cell_type": "markdown",
   "id": "187680a7",
   "metadata": {},
   "source": [
    "## Load Datasets"
   ]
  },
  {
   "cell_type": "code",
   "execution_count": 3,
   "id": "c6e27b07",
   "metadata": {},
   "outputs": [],
   "source": [
    "training_data = datasets.MNIST(\n",
    "    root=DATA_DIR, \n",
    "    train=True, \n",
    "    download=True,\n",
    "    transform=T.ToTensor(), #convert to Tensor and normalize to (0, 1)\n",
    ")\n",
    "\n",
    "test_data = datasets.MNIST(\n",
    "    root=DATA_DIR,\n",
    "    train=False,\n",
    "    download=True,\n",
    "    transform=T.ToTensor(), #convert to Tensor and normalize to (0, 1)\n",
    ")"
   ]
  },
  {
   "cell_type": "markdown",
   "id": "6e03b369",
   "metadata": {},
   "source": [
    "## Take Only 5000 Labeled Data from Training Data"
   ]
  },
  {
   "cell_type": "code",
   "execution_count": 4,
   "id": "6c977761",
   "metadata": {},
   "outputs": [
    {
     "name": "stdout",
     "output_type": "stream",
     "text": [
      "0 500\n",
      "1 500\n",
      "2 500\n",
      "3 500\n",
      "4 500\n",
      "5 500\n",
      "6 500\n",
      "7 500\n",
      "8 500\n",
      "9 500\n",
      "X shape:  torch.Size([5000, 28, 28])\n",
      "y shape:  torch.Size([5000])\n"
     ]
    }
   ],
   "source": [
    "ns = 500 #number of samples per class\n",
    "nc = len(training_data.classes)\n",
    "\n",
    "targets = []\n",
    "inputs = []\n",
    "for c in range(nc):\n",
    "    \n",
    "    idx_c = (training_data.targets == c)\n",
    "\n",
    "    targets_c = training_data.targets[idx_c][:ns]\n",
    "    print(c, len(targets_c))\n",
    "    targets.append(targets_c)\n",
    "    \n",
    "    inputs_c = training_data.data[idx_c][:ns]\n",
    "    inputs.append(inputs_c)\n",
    "\n",
    "training_subdata = copy.deepcopy(training_data)\n",
    "\n",
    "X = torch.vstack(inputs)\n",
    "y = torch.vstack(targets).flatten()\n",
    "print(\"X shape: \", X.shape)\n",
    "print(\"y shape: \", y.shape)\n",
    "training_subdata.data = X\n",
    "training_subdata.targets = y"
   ]
  },
  {
   "cell_type": "markdown",
   "id": "6b955e12",
   "metadata": {},
   "source": [
    "## Dump Created MNIST Subdata"
   ]
  },
  {
   "cell_type": "code",
   "execution_count": 5,
   "id": "34f04f4d",
   "metadata": {},
   "outputs": [],
   "source": [
    "from joblib import dump, load"
   ]
  },
  {
   "cell_type": "code",
   "execution_count": 6,
   "id": "62ae9333",
   "metadata": {},
   "outputs": [
    {
     "data": {
      "text/plain": [
       "['./data/training_subdata.bin']"
      ]
     },
     "execution_count": 6,
     "metadata": {},
     "output_type": "execute_result"
    }
   ],
   "source": [
    "dump(training_subdata, './data/training_subdata.bin', compress=True)"
   ]
  },
  {
   "cell_type": "code",
   "execution_count": 7,
   "id": "958a1874",
   "metadata": {},
   "outputs": [
    {
     "data": {
      "text/plain": [
       "Dataset MNIST\n",
       "    Number of datapoints: 5000\n",
       "    Root location: ./data\n",
       "    Split: Train\n",
       "    StandardTransform\n",
       "Transform: ToTensor()"
      ]
     },
     "execution_count": 7,
     "metadata": {},
     "output_type": "execute_result"
    }
   ],
   "source": [
    "loaded_training_subdata = load('./data/training_subdata.bin')\n",
    "loaded_training_subdata"
   ]
  },
  {
   "cell_type": "markdown",
   "id": "229a8294",
   "metadata": {},
   "source": [
    "### test visualize"
   ]
  },
  {
   "cell_type": "code",
   "execution_count": 11,
   "id": "29264551",
   "metadata": {},
   "outputs": [
    {
     "data": {
      "image/png": "[encoded data removed]",
      "text/plain": [
       "<Figure size 640x480 with 1 Axes>"
      ]
     },
     "metadata": {},
     "output_type": "display_data"
    }
   ],
   "source": [
    "import matplotlib.pyplot as plt\n",
    "\n",
    "plt.imshow(loaded_training_subdata.data[4999], cmap='gray')\n",
    "plt.title('%i' % loaded_training_subdata.targets[4999])\n",
    "plt.show()"
   ]
  }
 ],
 "metadata": {
  "kernelspec": {
   "display_name": "Python 3 (ipykernel)",
   "language": "python",
   "name": "python3"
  },
  "language_info": {
   "codemirror_mode": {
    "name": "ipython",
    "version": 3
   },
   "file_extension": ".py",
   "mimetype": "text/x-python",
   "name": "python",
   "nbconvert_exporter": "python",
   "pygments_lexer": "ipython3",
   "version": "3.10.8"
  }
 },
 "nbformat": 4,
 "nbformat_minor": 5
}
